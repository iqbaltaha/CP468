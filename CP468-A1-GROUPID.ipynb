{
 "cells": [
  {
   "cell_type": "code",
   "execution_count": null,
   "metadata": {},
   "outputs": [],
   "source": [
    "### Function implementation came from here:\n",
    "### https://www.askpython.com/python/examples/beam-search-algorithm\n",
    "\n",
    "from numpy import array"
   ]
  },
  {
   "cell_type": "code",
   "execution_count": null,
   "metadata": {},
   "outputs": [],
   "source": [
    "def beam_search(distances, width):\n",
    "    running_paths = [ [list(), 0] ] #how we'll keep track of the paths\n",
    "\n",
    "    for idx, tier in enumerate(distances):\n",
    "        if idx > 0:\n",
    "            print(f\"Paths kept after tier {idx-1}\")\n",
    "            print(*running_paths, sep=\"\\n\")\n",
    "        \n",
    "        paths_at_tier = list()\n",
    "\n",
    "        #Now we need to keep going down some paths\n",
    "        for i in range(len(running_paths)):\n",
    "            path, distance = running_paths[i]\n",
    "\n",
    "            for j in range(len(tier)):\n",
    "                extended_path = [ path + [j], distance + tier[j] ]\n",
    "                paths_at_tier.append(extended_path)\n",
    "\n",
    "        ordered_paths = sorted(paths_at_tier, key= lambda element: element[1])\n",
    "\n",
    "        running_paths = ordered_paths[:width]\n",
    "        print(f\"\\nPaths reduced to after tier {idx}: \")\n",
    "        print(*ordered_paths[width:], sep=\"\\n\")\n",
    "\n",
    "    return running_paths"
   ]
  },
  {
   "cell_type": "code",
   "execution_count": null,
   "metadata": {},
   "outputs": [],
   "source": [
    "## simple test right from the webpage for now\n",
    "dists = [\n",
    "    [1, 4, 6, 8],\n",
    "    [5, 2, 3, 4]\n",
    "]\n",
    "dists = array(dists)\n",
    "\n",
    "best_paths = beam_search(dists, 2)\n",
    "print(\"\\nThe best paths:\")\n",
    "for path in best_paths:\n",
    "    print(path)"
   ]
  }
 ],
 "metadata": {
  "kernelspec": {
   "display_name": "Python 3",
   "language": "python",
   "name": "python3"
  },
  "language_info": {
   "name": "python",
   "version": "3.11.5"
  }
 },
 "nbformat": 4,
 "nbformat_minor": 2
}
